{
 "cells": [
  {
   "cell_type": "markdown",
   "metadata": {
    "id": "pDrecLU-4QjS"
   },
   "source": [
    "# Практика"
   ]
  },
  {
   "cell_type": "markdown",
   "metadata": {
    "id": "gUvTNDlMaV-a"
   },
   "source": [
    "## Определение вероятности. События\n",
    "\n",
    "Требуется сгенерировать необходимые выборки и произвести по ним расчеты"
   ]
  },
  {
   "cell_type": "code",
   "execution_count": 1,
   "metadata": {},
   "outputs": [],
   "source": [
    "import pandas as pd\n",
    "import numpy as np\n",
    "import matplotlib.pyplot as plt\n",
    "import scipy.stats as sts"
   ]
  },
  {
   "cell_type": "markdown",
   "metadata": {
    "id": "5V70InEBTgup"
   },
   "source": [
    "### Задача 1\n",
    "Брошено две монеты. Найти вероятность того, что монеты выпали разными сторонами"
   ]
  },
  {
   "cell_type": "code",
   "execution_count": 62,
   "metadata": {
    "id": "88Iw-SL3jYQV"
   },
   "outputs": [
    {
     "data": {
      "text/plain": [
       "'Разными сторонами моненты выпали 4942 раз из 10000, p=0.4942'"
      ]
     },
     "metadata": {},
     "output_type": "display_data"
    }
   ],
   "source": [
    "'''\n",
    "\n",
    "first = sts.binom(1, 0.5) # испытание с вероятностью успеха 0.5\n",
    "second = sts.binom(1, 0.5) # испытание с вероятностью успеха 0.5\n",
    "\n",
    "#np.vstack((first.rvs(1000),second.rvs(1000)))\n",
    "\n",
    "np.array(np.meshgrid(first.rvs(1000), second.rvs(1000))).T.reshape(-1,2)\n",
    "\n",
    "#binomial_rv.rvs(1000000).mean()\n",
    "'''\n",
    "\n",
    "N = 10000\n",
    "cases = []\n",
    "i=0\n",
    "while i <= N:\n",
    "    coin1 = np.random.choice((\"heads\", \"tails\"), 1)[0]\n",
    "    coin2 = np.random.choice((\"heads\", \"tails\"), 1)[0]\n",
    "    coins = coin1 != coin2\n",
    "    cases.append(coins)\n",
    "    i+=1\n",
    "    \n",
    "result = cases.count(True)\n",
    "\n",
    "display(\"Разными сторонами моненты выпали {} раз из {}, p={}\".format(result, N, result/N))"
   ]
  },
  {
   "cell_type": "markdown",
   "metadata": {
    "id": "t0XOMos2Tl0e"
   },
   "source": [
    "### Задача 2\n",
    "Брошено три монеты. Описать множество всех элементарных событий. Найти вероятности следующих событий:\n",
    "\n",
    "\n",
    "1.   A = {не выпало ни одного герба}\n",
    "2.   B = {выпало четное число гербов}\n",
    "3.   C = {на третьей монете выпал герб}\n"
   ]
  },
  {
   "cell_type": "code",
   "execution_count": 73,
   "metadata": {
    "id": "o7NjAE9uUo-L"
   },
   "outputs": [
    {
     "data": {
      "text/plain": [
       "'не выпало ни одного герба, p=0.1254'"
      ]
     },
     "metadata": {},
     "output_type": "display_data"
    },
    {
     "data": {
      "text/plain": [
       "'выпало четное число гербов, p=0.5067'"
      ]
     },
     "metadata": {},
     "output_type": "display_data"
    },
    {
     "data": {
      "text/plain": [
       "'на третьей монете выпал герб, p=0.4957'"
      ]
     },
     "metadata": {},
     "output_type": "display_data"
    }
   ],
   "source": [
    "N = 10000\n",
    "results1 = []\n",
    "results2 = []\n",
    "results3 = []\n",
    "\n",
    "i=0\n",
    "while i <= N:\n",
    "    coin1 = np.random.choice((\"heads\", \"tails\"), 1)[0]\n",
    "    coin2 = np.random.choice((\"heads\", \"tails\"), 1)[0]\n",
    "    coin3 = np.random.choice((\"heads\", \"tails\"), 1)[0]\n",
    "    \n",
    "    result1 = (coin1 == \"tails\") & (coin2 == \"tails\") & (coin3 == \"tails\")\n",
    "    results1.append(result1)\n",
    "    \n",
    "    result2 = ([coin1, coin2, coin3].count(\"heads\") % 2) == 0\n",
    "    results2.append(result2)\n",
    "    \n",
    "    result3 = coin3 == \"heads\"\n",
    "    results3.append(result3)\n",
    "    \n",
    "    i+=1\n",
    "    \n",
    "count_results1 = results1.count(True)\n",
    "count_results2 = results2.count(True)\n",
    "count_results3 = results3.count(True)\n",
    "\n",
    "display(\"не выпало ни одного герба, p={}\".format(count_results1/N))\n",
    "display(\"выпало четное число гербов, p={}\".format(count_results2/N))\n",
    "display(\"на третьей монете выпал герб, p={}\".format(count_results3/N))"
   ]
  },
  {
   "cell_type": "markdown",
   "metadata": {},
   "source": [
    "Предлагается также решить задачи: \n",
    "\n",
    "### Задача 3\n",
    "Из двух претендентов E и L на ответственную должность три члена комиссии должны отобрать одного. Каждый член комиссии должен указать либо одного достойного, либо забраковать обоих. Претендент считается выбранным, если он был признана достойным хотя бы двумя членами комиссии.\n",
    "Найти вероятность событий:\n",
    "\n",
    "A = {рекомендован L}, B = {рекомендован E}\n"
   ]
  },
  {
   "cell_type": "code",
   "execution_count": 78,
   "metadata": {},
   "outputs": [
    {
     "data": {
      "text/plain": [
       "'рекомендован L, p=0.259'"
      ]
     },
     "metadata": {},
     "output_type": "display_data"
    },
    {
     "data": {
      "text/plain": [
       "'рекомендован E, p=0.2649'"
      ]
     },
     "metadata": {},
     "output_type": "display_data"
    }
   ],
   "source": [
    "N = 10000\n",
    "i=0\n",
    "results1 = []\n",
    "results2 = []\n",
    "\n",
    "while i <= N:\n",
    "    member1 = np.random.choice((\"E\", \"L\", \"none\"), 1)[0]\n",
    "    member2 = np.random.choice((\"E\", \"L\", \"none\"), 1)[0]\n",
    "    member3 = np.random.choice((\"E\", \"L\", \"none\"), 1)[0]\n",
    "    \n",
    "    result1 = [member1, member2, member3].count(\"L\") >= 2\n",
    "    result2 = [member1, member2, member3].count(\"E\") >= 2\n",
    "    \n",
    "    results1.append(result1)\n",
    "    results2.append(result2)\n",
    "    \n",
    "    i+=1\n",
    "    \n",
    "count_results1 = results1.count(True)\n",
    "count_results2 = results2.count(True)\n",
    "\n",
    "display(\"рекомендован L, p={}\".format(count_results1/N))\n",
    "display(\"рекомендован E, p={}\".format(count_results2/N))"
   ]
  },
  {
   "cell_type": "markdown",
   "metadata": {
    "id": "peM38mVfYa5B"
   },
   "source": [
    "### Задача 4\n",
    "Брошено две игральных кости. Описать множество элементарных событий. Найти вероятности событий:\n",
    "\n",
    "A = {вышло две \"шестерки\"}\n",
    "\n",
    "B = {сумма выпавших очков не меньше 11}\n",
    "\n",
    "C = {не выпала ни одна \"шестерка\"}"
   ]
  },
  {
   "cell_type": "code",
   "execution_count": 80,
   "metadata": {},
   "outputs": [
    {
     "data": {
      "text/plain": [
       "'вышло две шестерки, p=0.0259'"
      ]
     },
     "metadata": {},
     "output_type": "display_data"
    },
    {
     "data": {
      "text/plain": [
       "'сумма выпавших очков не меньше 11, p=0.0819'"
      ]
     },
     "metadata": {},
     "output_type": "display_data"
    },
    {
     "data": {
      "text/plain": [
       "'не выпала ни одна шестерка, p=0.6964'"
      ]
     },
     "metadata": {},
     "output_type": "display_data"
    }
   ],
   "source": [
    "N = 10000\n",
    "i=0\n",
    "results1 = []\n",
    "results2 = []\n",
    "results3 = []\n",
    "\n",
    "while i <= N:\n",
    "    dice1 = np.random.choice((1,2,3,4,5,6), 1)[0]\n",
    "    dice2 = np.random.choice((1,2,3,4,5,6), 1)[0]\n",
    "    \n",
    "    result1 = dice1 == 6 & dice2 == 6\n",
    "    \n",
    "    result2 = (dice1 + dice2) >= 11\n",
    "    \n",
    "    result3 = (dice1 != 6) & (dice2 != 6)\n",
    "    \n",
    "    results1.append(result1)\n",
    "    results2.append(result2)\n",
    "    results3.append(result3)\n",
    "    \n",
    "    i+=1\n",
    "    \n",
    "count_results1 = results1.count(True)\n",
    "count_results2 = results2.count(True)\n",
    "count_results3 = results3.count(True)\n",
    "\n",
    "display(\"вышло две \"\"шестерки\"\", p={}\".format(count_results1/N))\n",
    "display(\"сумма выпавших очков не меньше 11, p={}\".format(count_results2/N))\n",
    "display(\"не выпала ни одна \"\"шестерка\"\", p={}\".format(count_results3/N))"
   ]
  },
  {
   "cell_type": "markdown",
   "metadata": {
    "id": "f-Bi0p8haclB"
   },
   "source": [
    "## Вероятность суммы событий"
   ]
  },
  {
   "cell_type": "markdown",
   "metadata": {
    "id": "g7A7QlvGTnwZ"
   },
   "source": [
    "### Задача 5\n",
    "Брошены две игральные кости. Найти вероятность события D = {выпала хотя бы одна шестёрка}\n"
   ]
  },
  {
   "cell_type": "code",
   "execution_count": 94,
   "metadata": {
    "id": "vjtTJN-kUp9D"
   },
   "outputs": [
    {
     "data": {
      "text/plain": [
       "'выпала хотя бы одна \"шестёрка\", p=0.3089'"
      ]
     },
     "metadata": {},
     "output_type": "display_data"
    }
   ],
   "source": [
    "N = 10000\n",
    "i=0\n",
    "results1 = []\n",
    "\n",
    "while i <= N:\n",
    "    dice1 = np.random.choice((1,2,3,4,5,6), 1)[0]\n",
    "    dice2 = np.random.choice((1,2,3,4,5,6), 1)[0]\n",
    "\n",
    "    result1 = (dice1 == 6) or (dice2 == 6)\n",
    "    \n",
    "    results1.append(result1)\n",
    "    \n",
    "    i+=1\n",
    "    \n",
    "count_results1 = results1.count(True)\n",
    "\n",
    "display('выпала хотя бы одна \"шестёрка\", p={}'.format(count_results1/N))"
   ]
  },
  {
   "cell_type": "markdown",
   "metadata": {
    "id": "R1bYSzQQbC6I"
   },
   "source": [
    "Предлагается также решить задачи: \n",
    "\n",
    "### Задача 6\n",
    "В телефонном номере три последние цифры стерлись. Считая, что все возможные значения стершихся цифр равновероятны, найти вероятность событий:\n",
    "\n",
    "A = {Стерлись различные цифры},\n",
    "\n",
    "B = {Стерлись одинаковые цифры},\n",
    "\n",
    "C = {Среди стершихся цифр хотя бы две совпадают},\n",
    "\n",
    "D = {Среди стершихся цифр хотя бы две различны}\n"
   ]
  },
  {
   "cell_type": "code",
   "execution_count": 96,
   "metadata": {},
   "outputs": [
    {
     "data": {
      "text/plain": [
       "'Стерлись различные цифры, p=0.8069'"
      ]
     },
     "metadata": {},
     "output_type": "display_data"
    },
    {
     "data": {
      "text/plain": [
       "'Стерлись одинаковые цифры, p=0.0103'"
      ]
     },
     "metadata": {},
     "output_type": "display_data"
    },
    {
     "data": {
      "text/plain": [
       "'Среди стершихся цифр хотя бы две совпадают, p=0.2816'"
      ]
     },
     "metadata": {},
     "output_type": "display_data"
    },
    {
     "data": {
      "text/plain": [
       "'Среди стершихся цифр хотя бы две различны, p=0.9898'"
      ]
     },
     "metadata": {},
     "output_type": "display_data"
    }
   ],
   "source": [
    "N = 10000\n",
    "i=0\n",
    "results1 = []\n",
    "results2 = []\n",
    "results3 = []\n",
    "results4 = []\n",
    "\n",
    "while i <= N:\n",
    "    number1 = np.random.choice((0,1,2,3,4,5,6,7,8,9), 1)[0]\n",
    "    number2 = np.random.choice((0,1,2,3,4,5,6,7,8,9), 1)[0]\n",
    "    number3 = np.random.choice((0,1,2,3,4,5,6,7,8,9), 1)[0]\n",
    "\n",
    "    result1 = number1 != number2 != number3\n",
    "    result2 = number1 == number2 == number3\n",
    "    result3 = (number1 == number2) or (number1 == number3) or (number2 == number3)\n",
    "    result4 = (number1 != number2) or (number1 != number3) or (number2 != number3)\n",
    "    \n",
    "    results1.append(result1)\n",
    "    results2.append(result2)\n",
    "    results3.append(result3)\n",
    "    results4.append(result4)\n",
    "    \n",
    "    i+=1\n",
    "    \n",
    "count_results1 = results1.count(True)\n",
    "count_results2 = results2.count(True)\n",
    "count_results3 = results3.count(True)\n",
    "count_results4 = results4.count(True)\n",
    "\n",
    "display(\"Стерлись различные цифры, p={}\".format(count_results1/N))\n",
    "display(\"Стерлись одинаковые цифры, p={}\".format(count_results2/N))\n",
    "display(\"Среди стершихся цифр хотя бы две совпадают, p={}\".format(count_results3/N))\n",
    "display(\"Среди стершихся цифр хотя бы две различны, p={}\".format(count_results4/N))"
   ]
  },
  {
   "cell_type": "markdown",
   "metadata": {
    "id": "RnugkR8BalK_"
   },
   "source": [
    "## Случайные величины"
   ]
  },
  {
   "cell_type": "markdown",
   "metadata": {
    "id": "yLoZDZ17UVsp"
   },
   "source": [
    "### Задача 7\n",
    "В лотерее имеется 10 билетов, из которых один выигрышный. Размер выигрыша 10 ден. ед.; стоимость билета 1 ден ед. Найти закон распределения случайной величины X, равной чистому выигрышу участника лотереи, который вытаскивает билет первым."
   ]
  },
  {
   "cell_type": "markdown",
   "metadata": {
    "id": "oNk432sKUqzT"
   },
   "source": [
    "### Возможные исходы: \n",
    "- выигрыш  10-1=9\n",
    "- проигрыш  -1\n",
    "\n",
    "Вероятность выигрыша 1/10.\n",
    "Вероятность проигрыша 9/10"
   ]
  },
  {
   "cell_type": "code",
   "execution_count": 115,
   "metadata": {},
   "outputs": [
    {
     "data": {
      "text/plain": [
       "<BarContainer object of 2 artists>"
      ]
     },
     "execution_count": 115,
     "metadata": {},
     "output_type": "execute_result"
    },
    {
     "data": {
      "image/png": "[encoded data removed]",
      "text/plain": [
       "<Figure size 432x288 with 1 Axes>"
      ]
     },
     "metadata": {
      "needs_background": "light"
     },
     "output_type": "display_data"
    }
   ],
   "source": [
    "x = [-1, 9]\n",
    "y = [0.1, 0.9]\n",
    "\n",
    "plt.bar(x,y,align='center')"
   ]
  },
  {
   "cell_type": "markdown",
   "metadata": {
    "id": "U-NK9liSbpvb"
   },
   "source": [
    "Предлагается также решить задачу: \n",
    "\n",
    "### Задача 8\n",
    "Брошены две игральные кости. Найти закон распределения случайной величины $X$, равной сумме выпавших очков. Найти вероятности событий ${X <= 4}$, ${X > 4}$"
   ]
  },
  {
   "cell_type": "code",
   "execution_count": 114,
   "metadata": {},
   "outputs": [
    {
     "data": {
      "text/plain": [
       "'𝑋<=4, p=0.1687'"
      ]
     },
     "metadata": {},
     "output_type": "display_data"
    },
    {
     "data": {
      "text/plain": [
       "'𝑋>4, p=15.0007'"
      ]
     },
     "metadata": {},
     "output_type": "display_data"
    },
    {
     "data": {
      "text/plain": [
       "(array([0.02669733, 0.05749425, 0.08449155, 0.11058894, 0.14028597,\n",
       "        0.17018298, 0.13868613, 0.10918908, 0.07989201, 0.08249175]),\n",
       " array([ 2,  3,  4,  5,  6,  7,  8,  9, 10, 11, 12]),\n",
       " <BarContainer object of 10 artists>)"
      ]
     },
     "execution_count": 114,
     "metadata": {},
     "output_type": "execute_result"
    },
    {
     "data": {
      "image/png": "[encoded data removed]",
      "text/plain": [
       "<Figure size 432x288 with 1 Axes>"
      ]
     },
     "metadata": {
      "needs_background": "light"
     },
     "output_type": "display_data"
    }
   ],
   "source": [
    "N = 10000\n",
    "i=0\n",
    "results = []\n",
    "results1 = []\n",
    "results1 = []\n",
    "\n",
    "while i <= N:\n",
    "    dice1 = np.random.choice((1,2,3,4,5,6), 1)[0]\n",
    "    dice2 = np.random.choice((1,2,3,4,5,6), 1)[0]\n",
    "\n",
    "    result = dice1 + dice2\n",
    "    \n",
    "    result1 = result <= 4\n",
    "    \n",
    "    result2 = result > 4\n",
    "    \n",
    "    results.append(result)\n",
    "    results1.append(result1)\n",
    "    results2.append(result2)\n",
    "    \n",
    "    i+=1\n",
    "    \n",
    "count_results1 = results1.count(True)\n",
    "count_results2 = results2.count(True)\n",
    "\n",
    "display('𝑋<=4, p={}'.format(count_results1/N))\n",
    "display('𝑋>4, p={}'.format(count_results2/N))\n",
    "\n",
    "bins = np.arange(2, 13, 1)\n",
    "\n",
    "\n",
    "plt.ylabel('Вероятность')\n",
    "plt.xlabel('Сумма очков')\n",
    "plt.hist(results, density=True, bins=bins, rwidth=0.5)\n"
   ]
  },
  {
   "cell_type": "markdown",
   "metadata": {
    "id": "shgW4D83awjK"
   },
   "source": [
    "## Условные вероятности"
   ]
  },
  {
   "cell_type": "markdown",
   "metadata": {
    "id": "Fbu1RFZwWZrk"
   },
   "source": [
    "### Задача 9\n",
    "Из колоды (36 карт) вынимают последовательно без возвращения две карты. Найти вероятность того, что первой картой была шестерка, а второй — семерка. Найти условную вероятность того же события при условии, что обе карты бубновой масти.\n"
   ]
  },
  {
   "cell_type": "code",
   "execution_count": null,
   "metadata": {
    "id": "037o56awW9-E"
   },
   "outputs": [],
   "source": []
  },
  {
   "cell_type": "markdown",
   "metadata": {
    "id": "hNVxtaz5c57b"
   },
   "source": [
    "Предлагается также решить задачу: \n",
    "\n",
    "### Задача 10\n",
    "Из урны, содержащей два белых и три черных шара, последовательно извлекают два шара; вынутые шары не возвращаются. Если первый шар оказался черным, то перед вторым извлечением в урну добавляют белый шар. В противном случае состав оставшихся шаров не меняют. Найти вероятности событий:\n",
    "\n",
    "$A$ = {извлечены два белых шара},\n",
    "\n",
    "$B$ = {извлечены два черных шара}\n",
    "\n",
    "Указание. Пусть событие $C_1$ = {первый шар белый}, событие $C_2$ = {второй шар белый}. Тогда $A = C_1C_2$, $B = \\overline C_1 \\overline C_2$ "
   ]
  },
  {
   "cell_type": "code",
   "execution_count": null,
   "metadata": {
    "id": "WSLnhk2sdBt_"
   },
   "outputs": [],
   "source": []
  }
 ],
 "metadata": {
  "colab": {
   "collapsed_sections": [],
   "name": "Практика к занятию 11.ipynb",
   "provenance": []
  },
  "kernelspec": {
   "display_name": "Python 3 (ipykernel)",
   "language": "python",
   "name": "python3"
  },
  "language_info": {
   "codemirror_mode": {
    "name": "ipython",
    "version": 3
   },
   "file_extension": ".py",
   "mimetype": "text/x-python",
   "name": "python",
   "nbconvert_exporter": "python",
   "pygments_lexer": "ipython3",
   "version": "3.10.3"
  }
 },
 "nbformat": 4,
 "nbformat_minor": 1
}

{
  "cells": [
    {
      "cell_type": "code",
      "execution_count": 1,
      "metadata": {
        "id": "-B2i_cTD4WH_"
      },
      "outputs": [],
      "source": [
        "import sqlite3\n",
        "conn = sqlite3.connect('TestDB.db')  \n",
        "c = conn.cursor()"
      ]
    },
    {
      "cell_type": "code",
      "source": [
        "import pandas as pd\n",
        "import numpy as np\n",
        "df = pd.DataFrame(np.random.randint(0,1000,size=(1000, 3)), columns=['A','B','C'])\n",
        "\n",
        "df.to_sql(name='table1', con=conn)"
      ],
      "metadata": {
        "id": "lbffZF729Zkz"
      },
      "execution_count": 5,
      "outputs": []
    },
    {
      "cell_type": "code",
      "execution_count": 12,
      "metadata": {
        "colab": {
          "base_uri": "https://localhost:8080/",
          "height": 366
        },
        "id": "ObiNzNv74WIK",
        "outputId": "49271e91-643e-4f16-853d-3cd825d1d62c"
      },
      "outputs": [
        {
          "output_type": "execute_result",
          "data": {
            "text/plain": [
              "array([[<matplotlib.axes._subplots.AxesSubplot object at 0x7f01b910f690>,\n",
              "        <matplotlib.axes._subplots.AxesSubplot object at 0x7f01b8f91190>],\n",
              "       [<matplotlib.axes._subplots.AxesSubplot object at 0x7f01b8f43790>,\n",
              "        <matplotlib.axes._subplots.AxesSubplot object at 0x7f01b8efad90>]],\n",
              "      dtype=object)"
            ]
          },
          "metadata": {},
          "execution_count": 12
        },
        {
          "output_type": "display_data",
          "data": {
            "text/plain": [
              "<Figure size 432x288 with 4 Axes>"
            ],
            "image/png": "[encoded data removed]"
          },
          "metadata": {
            "needs_background": "light"
          }
        }
      ],
      "source": [
        "request = \"\"\"\n",
        "select *\n",
        "from table1\n",
        "\"\"\"\n",
        "\n",
        "df = pd.read_sql_query(request, conn)\n",
        "df.hist(column=['A','B','C'])"
      ]
    }
  ],
  "metadata": {
    "kernelspec": {
      "display_name": "Python 3",
      "language": "python",
      "name": "python3"
    },
    "language_info": {
      "codemirror_mode": {
        "name": "ipython",
        "version": 3
      },
      "file_extension": ".py",
      "mimetype": "text/x-python",
      "name": "python",
      "nbconvert_exporter": "python",
      "pygments_lexer": "ipython3",
      "version": "3.8.5"
    },
    "colab": {
      "name": "lesson7.ipynb",
      "provenance": []
    }
  },
  "nbformat": 4,
  "nbformat_minor": 0
}
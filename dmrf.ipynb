{
 "cells": [
  {
   "cell_type": "markdown",
   "metadata": {
    "pycharm": {
     "name": "#%% md\n"
    }
   },
   "source": [
    "# Задание 1\n",
    "* Собрать информацию о всех строящихся объектах на сайте \"наш.дом.рф\"\n",
    "* Cохранить ее в pandas dataframe\n",
    "* Cохранить pandas dataframe в excel\n",
    "* Cохранить pandas dataframe в pickle\n",
    "* Cохранить pandas dataframe в БД\n",
    "\n",
    "# Задание 2\n",
    "* Выберите регион\n",
    "* Сравните среднюю цену квадратного метра в городах этого региона\n",
    "* Определите количество строящихся объектов и квартир в регионах\n",
    "* Определите объем строящегося жилья в квадратных метрах\n",
    "\n",
    "# Задание 3 *\n",
    "* Напишете скрипт, который сможет ежедневно собирать данные по цене, количестве и объему строящихся объектов самостоятельно и ежедневно\n",
    "* Попробуйте ускорить процесс\n",
    "* Добавьте возможность добавления данных в БД с указанием текущей даты."
   ]
  },
  {
   "cell_type": "code",
   "execution_count": 119,
   "metadata": {
    "pycharm": {
     "name": "#%%\n"
    }
   },
   "outputs": [],
   "source": [
    "import requests\n",
    "import pandas as pd\n",
    "import numpy as np\n",
    "import sqlite3\n",
    "from tqdm.auto import tqdm\n",
    "from geopy.geocoders import Nominatim\n",
    "import time"
   ]
  },
  {
   "cell_type": "markdown",
   "metadata": {
    "pycharm": {
     "name": "#%% md\n"
    }
   },
   "source": [
    "## Список объектов"
   ]
  },
  {
   "cell_type": "code",
   "execution_count": 82,
   "metadata": {
    "pycharm": {
     "name": "#%%\n"
    }
   },
   "outputs": [
    {
     "name": "stdout",
     "output_type": "stream",
     "text": [
      "10049\n",
      "   objId  rpdRegionCd                          objAddr  objFloorMin  \\\n",
      "0  13391           72         г Тюмень, ул Профсоюзная            3   \n",
      "1  13397           72  г Тюмень, ул Профсоюзная, д. 56            6   \n",
      "2  13383           72                         г Тюмень            4   \n",
      "3  13398           72  г Тюмень, ул Профсоюзная, д. 56            7   \n",
      "4  13399           72  г Тюмень, ул Профсоюзная, д. 56            1   \n",
      "\n",
      "   objFloorMax  objElemLivingCnt objReady100PercDt  objSquareLiving  \\\n",
      "0           12                44        2022-06-30          4293.67   \n",
      "1           12                65        2024-12-31          6248.51   \n",
      "2           20                68        2022-06-30          6289.98   \n",
      "3           10                43        2024-12-31          4812.98   \n",
      "4            1                 0        2024-12-31             0.00   \n",
      "\n",
      "   objCompensFundFlg  objProblemFlg  ...  developer.orgForm.fullForm  \\\n",
      "0                  1              0  ...        Акционерное общество   \n",
      "1                  0              0  ...        Акционерное общество   \n",
      "2                  1              0  ...        Акционерное общество   \n",
      "3                  0              0  ...        Акционерное общество   \n",
      "4                  0              0  ...        Акционерное общество   \n",
      "\n",
      "   developer.orgForm.shortForm developer.companyGroup developer.devInn  \\\n",
      "0                           АО            699421001.0       7701651356   \n",
      "1                           АО            699421001.0       7701651356   \n",
      "2                           АО            699421001.0       7701651356   \n",
      "3                           АО            699421001.0       7701651356   \n",
      "4                           АО            699421001.0       7701651356   \n",
      "\n",
      "   objCommercNm  complexShortName developer.bankruptStage.bankruptStageCd  \\\n",
      "0           NaN               NaN                                     NaN   \n",
      "1           NaN               NaN                                     NaN   \n",
      "2           NaN               NaN                                     NaN   \n",
      "3           NaN               NaN                                     NaN   \n",
      "4           NaN               NaN                                     NaN   \n",
      "\n",
      "   developer.bankruptStage.bankruptStageDesc  \\\n",
      "0                                        NaN   \n",
      "1                                        NaN   \n",
      "2                                        NaN   \n",
      "3                                        NaN   \n",
      "4                                        NaN   \n",
      "\n",
      "  developer.bankruptStage.bankruptLawUrl  developer.orgBankruptMsgDttm  \n",
      "0                                    NaN                           NaN  \n",
      "1                                    NaN                           NaN  \n",
      "2                                    NaN                           NaN  \n",
      "3                                    NaN                           NaN  \n",
      "4                                    NaN                           NaN  \n",
      "\n",
      "[5 rows x 35 columns]\n"
     ]
    }
   ],
   "source": [
    "offset_ = 0\n",
    "limit_ = 1000\n",
    "\n",
    "result_df = pd.DataFrame()\n",
    "\n",
    "url = f'https://xn--80az8a.xn--d1aqf.xn--p1ai/%D1%81%D0%B5%D1%80%D0%B2%D0%B8%D1%81%D1%8B/api/kn/object?offset={offset_}&limit={limit_}&sortField=devId.devShortCleanNm&sortType=asc&objStatus=0'\n",
    "res = requests.get(url)\n",
    "number_of_objects = pd.json_normalize(res.json()) ['data.total'][0]\n",
    "number_of_loops = int(np.ceil(number_of_objects / 1000))\n",
    "\n",
    "for i in range(number_of_loops):\n",
    "    url = f'https://xn--80az8a.xn--d1aqf.xn--p1ai/%D1%81%D0%B5%D1%80%D0%B2%D0%B8%D1%81%D1%8B/api/kn/object?offset={offset_}&limit={limit_}&sortField=devId.devShortCleanNm&sortType=asc&objStatus=0'\n",
    "    res = requests.get(url)\n",
    "\n",
    "    objects_data = pd.json_normalize(pd.json_normalize(res.json())['data.list'][0])\n",
    "    \n",
    "    result_df = pd.concat([result_df,objects_data])\n",
    "    \n",
    "    offset_+=1000\n",
    "    i+=1\n"
   ]
  },
  {
   "cell_type": "code",
   "execution_count": 83,
   "metadata": {},
   "outputs": [
    {
     "data": {
      "text/plain": [
       "10049"
      ]
     },
     "execution_count": 83,
     "metadata": {},
     "output_type": "execute_result"
    }
   ],
   "source": [
    "#проверяем число строк\n",
    "len(result_df)"
   ]
  },
  {
   "cell_type": "code",
   "execution_count": 84,
   "metadata": {
    "pycharm": {
     "name": "#%%\n"
    }
   },
   "outputs": [
    {
     "data": {
      "text/plain": [
       "Index(['objId', 'rpdRegionCd', 'objAddr', 'objFloorMin', 'objFloorMax',\n",
       "       'objElemLivingCnt', 'objReady100PercDt', 'objSquareLiving',\n",
       "       'objCompensFundFlg', 'objProblemFlg', 'latitude', 'longitude',\n",
       "       'problemFlag', 'siteStatus', 'objGuarantyEscrowFlg',\n",
       "       'residentialBuildings', 'rpdNum', 'pdId', 'buildType', 'objStatus',\n",
       "       'developer.devId', 'developer.shortName', 'developer.fullName',\n",
       "       'developer.groupName', 'developer.orgForm.id',\n",
       "       'developer.orgForm.fullForm', 'developer.orgForm.shortForm',\n",
       "       'developer.companyGroup', 'developer.devInn', 'objCommercNm',\n",
       "       'complexShortName', 'developer.bankruptStage.bankruptStageCd',\n",
       "       'developer.bankruptStage.bankruptStageDesc',\n",
       "       'developer.bankruptStage.bankruptLawUrl',\n",
       "       'developer.orgBankruptMsgDttm'],\n",
       "      dtype='object')"
      ]
     },
     "execution_count": 84,
     "metadata": {},
     "output_type": "execute_result"
    }
   ],
   "source": [
    "#проверяем собранные поля\n",
    "result_df.keys()"
   ]
  },
  {
   "cell_type": "code",
   "execution_count": 85,
   "metadata": {},
   "outputs": [],
   "source": [
    "#для дальнейшего сбора нужны будут только идентификаторы\n",
    "ids = result_df.objId"
   ]
  },
  {
   "cell_type": "markdown",
   "metadata": {
    "pycharm": {
     "name": "#%% md\n"
    }
   },
   "source": [
    "# Данные по определенному объекту"
   ]
  },
  {
   "cell_type": "code",
   "execution_count": 93,
   "metadata": {
    "pycharm": {
     "name": "#%%\n"
    }
   },
   "outputs": [
    {
     "name": "stderr",
     "output_type": "stream",
     "text": [
      "100%|███████████████████████████████████| 10049/10049 [1:07:19<00:00,  2.49it/s]"
     ]
    },
    {
     "name": "stdout",
     "output_type": "stream",
     "text": [
      "10049\n",
      "<class 'pandas.core.frame.DataFrame'>\n"
     ]
    },
    {
     "name": "stderr",
     "output_type": "stream",
     "text": [
      "\n"
     ]
    }
   ],
   "source": [
    "#собираем подробную информацию в цикле\n",
    "details_df = pd.DataFrame()\n",
    "\n",
    "for object_id in tqdm(ids):\n",
    "    url = url = f'https://xn--80az8a.xn--d1aqf.xn--p1ai/%D1%81%D0%B5%D1%80%D0%B2%D0%B8%D1%81%D1%8B/api/object/{object_id}'\n",
    "\n",
    "    res = requests.get(url)\n",
    "\n",
    "    objects_data = pd.json_normalize(res.json())\n",
    "\n",
    "    details_df = pd.concat([details_df,objects_data])\n",
    "    "
   ]
  },
  {
   "cell_type": "code",
   "execution_count": 121,
   "metadata": {},
   "outputs": [
    {
     "name": "stdout",
     "output_type": "stream",
     "text": [
      "['errcode', 'data.id', 'data.pdId', 'data.developer.devId', 'data.developer.devShortCleanNm', 'data.developer.devShortNm', 'data.developer.devFullCleanNm', 'data.developer.problObjCnt', 'data.developer.buildObjCnt', 'data.developer.comissObjCnt', 'data.developer.regRegionDesc', 'data.developer.devPhoneNum', 'data.developer.devSite', 'data.developer.devEmail', 'data.developer.devInn', 'data.developer.devOgrn', 'data.developer.devKpp', 'data.developer.devLegalAddr', 'data.developer.devFactAddr', 'data.developer.lastRpdId', 'data.developer.fundGuarantyFlg', 'data.developer.devOrgRegRegionCd', 'data.developer.devEmplMainFullNm', 'data.developer.developerGroupName', 'data.developer.orgForm.id', 'data.developer.orgForm.fullForm', 'data.developer.orgForm.shortForm', 'data.developer.companyGroupId', 'data.developer.objGuarantyEscrowFlg', 'data.developer.govFundFlg', 'data.region', 'data.address', 'data.floorMin', 'data.floorMax', 'data.objElemLivingCnt', 'data.objReady100PercDt', 'data.wallMaterialShortDesc', 'data.objLkFinishTypeDesc', 'data.objLkFreePlanDesc', 'data.objElemParkingCnt', 'data.objSquareLiving', 'data.rpdNum', 'data.rpdPdfLink', 'data.rpdIssueDttm', 'data.objLkLatitude', 'data.objLkLongitude', 'data.objCompensFundFlg', 'data.objProblemFlg', 'data.objLkClassDesc', 'data.loadDttm', 'data.photoRenderDTO', 'data.objGuarantyEscrowFlg', 'data.objectType', 'data.miniUrl', 'data.residentialBuildings', 'data.newBuildingId', 'data.objFloorCnt', 'data.objFlatCnt', 'data.objFlatSq', 'data.objNonlivElemCnt', 'data.quartography.objLivElem1KCnt', 'data.quartography.objLivElem2KCnt', 'data.quartography.objLivElem3KCnt', 'data.quartography.objLivElem4KCnt', 'data.quartography.objLivElemCnt', 'data.quartography.objLivElemEntrCnt', 'data.quartography.objLivElemEntrFloorAvg', 'data.objStatus', 'data.isAvailableWantLiveHere', 'data.objTransferPlanDt', 'data.objLivCeilingHeight', 'data.objInfrstrBicycleLaneFlg', 'data.objInfrstrPlaygrndCnt', 'data.objInfrstrSportGroundCnt', 'data.objInfrstrTrashAreaCnt', 'data.objInfrstrObjPrkngCnt', 'data.objInfrstrNotObjPrkngCnt', 'data.objInfrstrRampFlg', 'data.objInfrstrCurbLoweringFlg', 'data.objElevatorWheelchairCnt', 'data.objElevatorPassengerCnt', 'data.objElevatorCargoCnt', 'data.soldOutPerc', 'data.objPriceAvg', 'data.generalContractorNm', 'data.nonlivFirstFloor', 'data.objectTransportInfo', 'data.conclusion', 'data.objLkSaleDepEmail', 'data.objGreenHouseFlg', 'data.objEnergyEffShortDesc', 'data.infrastructureIndexValue', 'data.nameObj', 'data.metro.id', 'data.metro.name', 'data.metro.line', 'data.metro.color', 'data.metro.time', 'data.metro.isWalk', 'data.metro.colors', 'data.transportDistIndex', 'data.transportDistIndexValue', 'data.greenAreaIndexValue', 'data.airQualityIndexValue', 'data.complexShortNm', 'data.developer.bankruptStage.bankruptStageCd', 'data.developer.bankruptStage.bankruptStageDesc', 'data.developer.bankruptStage.bankruptLawUrl', 'data.developer.orgBankruptMsgDttm']\n"
     ]
    }
   ],
   "source": [
    "#проверяем собранные поля\n",
    "print(details_df.columns.tolist())"
   ]
  },
  {
   "cell_type": "markdown",
   "metadata": {},
   "source": [
    "## Запись"
   ]
  },
  {
   "cell_type": "code",
   "execution_count": 94,
   "metadata": {
    "pycharm": {
     "name": "#%%\n"
    }
   },
   "outputs": [],
   "source": [
    "#сохраняем в excel\n",
    "details_df.to_excel(\"dmrf.xlsx\",sheet_name='Лист 1')"
   ]
  },
  {
   "cell_type": "code",
   "execution_count": 95,
   "metadata": {},
   "outputs": [],
   "source": [
    "#сохраняем в pickle\n",
    "details_df.to_pickle(\"dmrf.pkl\")"
   ]
  },
  {
   "cell_type": "code",
   "execution_count": 111,
   "metadata": {},
   "outputs": [
    {
     "data": {
      "text/plain": [
       "10049"
      ]
     },
     "execution_count": 111,
     "metadata": {},
     "output_type": "execute_result"
    },
    {
     "data": {
      "text/html": [
       "<div>\n",
       "<style scoped>\n",
       "    .dataframe tbody tr th:only-of-type {\n",
       "        vertical-align: middle;\n",
       "    }\n",
       "\n",
       "    .dataframe tbody tr th {\n",
       "        vertical-align: top;\n",
       "    }\n",
       "\n",
       "    .dataframe thead th {\n",
       "        text-align: right;\n",
       "    }\n",
       "</style>\n",
       "<table border=\"1\" class=\"dataframe\">\n",
       "  <thead>\n",
       "    <tr style=\"text-align: right;\">\n",
       "      <th></th>\n",
       "      <th>index</th>\n",
       "      <th>errcode</th>\n",
       "      <th>data.id</th>\n",
       "      <th>data.pdId</th>\n",
       "      <th>data.developer.devId</th>\n",
       "      <th>data.developer.devShortCleanNm</th>\n",
       "      <th>data.developer.devShortNm</th>\n",
       "      <th>data.developer.devFullCleanNm</th>\n",
       "      <th>data.developer.problObjCnt</th>\n",
       "      <th>data.developer.buildObjCnt</th>\n",
       "      <th>...</th>\n",
       "      <th>data.metro.colors</th>\n",
       "      <th>data.transportDistIndex</th>\n",
       "      <th>data.transportDistIndexValue</th>\n",
       "      <th>data.greenAreaIndexValue</th>\n",
       "      <th>data.airQualityIndexValue</th>\n",
       "      <th>data.complexShortNm</th>\n",
       "      <th>data.developer.bankruptStage.bankruptStageCd</th>\n",
       "      <th>data.developer.bankruptStage.bankruptStageDesc</th>\n",
       "      <th>data.developer.bankruptStage.bankruptLawUrl</th>\n",
       "      <th>data.developer.orgBankruptMsgDttm</th>\n",
       "    </tr>\n",
       "  </thead>\n",
       "  <tbody>\n",
       "    <tr>\n",
       "      <th>0</th>\n",
       "      <td>0</td>\n",
       "      <td>0</td>\n",
       "      <td>13391</td>\n",
       "      <td>28101</td>\n",
       "      <td>306</td>\n",
       "      <td>2МЕН ГРУПП</td>\n",
       "      <td>2МЕН ГРУПП</td>\n",
       "      <td>2МЕН ГРУПП</td>\n",
       "      <td>0</td>\n",
       "      <td>5</td>\n",
       "      <td>...</td>\n",
       "      <td>nan</td>\n",
       "      <td>None</td>\n",
       "      <td>NaN</td>\n",
       "      <td>NaN</td>\n",
       "      <td>NaN</td>\n",
       "      <td>None</td>\n",
       "      <td>NaN</td>\n",
       "      <td>None</td>\n",
       "      <td>None</td>\n",
       "      <td>None</td>\n",
       "    </tr>\n",
       "    <tr>\n",
       "      <th>1</th>\n",
       "      <td>0</td>\n",
       "      <td>0</td>\n",
       "      <td>13397</td>\n",
       "      <td>28141</td>\n",
       "      <td>306</td>\n",
       "      <td>2МЕН ГРУПП</td>\n",
       "      <td>2МЕН ГРУПП</td>\n",
       "      <td>2МЕН ГРУПП</td>\n",
       "      <td>0</td>\n",
       "      <td>5</td>\n",
       "      <td>...</td>\n",
       "      <td>nan</td>\n",
       "      <td>None</td>\n",
       "      <td>NaN</td>\n",
       "      <td>NaN</td>\n",
       "      <td>NaN</td>\n",
       "      <td>None</td>\n",
       "      <td>NaN</td>\n",
       "      <td>None</td>\n",
       "      <td>None</td>\n",
       "      <td>None</td>\n",
       "    </tr>\n",
       "    <tr>\n",
       "      <th>2</th>\n",
       "      <td>0</td>\n",
       "      <td>0</td>\n",
       "      <td>13383</td>\n",
       "      <td>28105</td>\n",
       "      <td>306</td>\n",
       "      <td>2МЕН ГРУПП</td>\n",
       "      <td>2МЕН ГРУПП</td>\n",
       "      <td>2МЕН ГРУПП</td>\n",
       "      <td>0</td>\n",
       "      <td>5</td>\n",
       "      <td>...</td>\n",
       "      <td>nan</td>\n",
       "      <td>None</td>\n",
       "      <td>NaN</td>\n",
       "      <td>NaN</td>\n",
       "      <td>NaN</td>\n",
       "      <td>None</td>\n",
       "      <td>NaN</td>\n",
       "      <td>None</td>\n",
       "      <td>None</td>\n",
       "      <td>None</td>\n",
       "    </tr>\n",
       "    <tr>\n",
       "      <th>3</th>\n",
       "      <td>0</td>\n",
       "      <td>0</td>\n",
       "      <td>13398</td>\n",
       "      <td>28141</td>\n",
       "      <td>306</td>\n",
       "      <td>2МЕН ГРУПП</td>\n",
       "      <td>2МЕН ГРУПП</td>\n",
       "      <td>2МЕН ГРУПП</td>\n",
       "      <td>0</td>\n",
       "      <td>5</td>\n",
       "      <td>...</td>\n",
       "      <td>nan</td>\n",
       "      <td>None</td>\n",
       "      <td>NaN</td>\n",
       "      <td>NaN</td>\n",
       "      <td>NaN</td>\n",
       "      <td>None</td>\n",
       "      <td>NaN</td>\n",
       "      <td>None</td>\n",
       "      <td>None</td>\n",
       "      <td>None</td>\n",
       "    </tr>\n",
       "    <tr>\n",
       "      <th>4</th>\n",
       "      <td>0</td>\n",
       "      <td>0</td>\n",
       "      <td>13399</td>\n",
       "      <td>28141</td>\n",
       "      <td>306</td>\n",
       "      <td>2МЕН ГРУПП</td>\n",
       "      <td>2МЕН ГРУПП</td>\n",
       "      <td>2МЕН ГРУПП</td>\n",
       "      <td>0</td>\n",
       "      <td>5</td>\n",
       "      <td>...</td>\n",
       "      <td>nan</td>\n",
       "      <td>None</td>\n",
       "      <td>NaN</td>\n",
       "      <td>NaN</td>\n",
       "      <td>NaN</td>\n",
       "      <td>None</td>\n",
       "      <td>NaN</td>\n",
       "      <td>None</td>\n",
       "      <td>None</td>\n",
       "      <td>None</td>\n",
       "    </tr>\n",
       "    <tr>\n",
       "      <th>...</th>\n",
       "      <td>...</td>\n",
       "      <td>...</td>\n",
       "      <td>...</td>\n",
       "      <td>...</td>\n",
       "      <td>...</td>\n",
       "      <td>...</td>\n",
       "      <td>...</td>\n",
       "      <td>...</td>\n",
       "      <td>...</td>\n",
       "      <td>...</td>\n",
       "      <td>...</td>\n",
       "      <td>...</td>\n",
       "      <td>...</td>\n",
       "      <td>...</td>\n",
       "      <td>...</td>\n",
       "      <td>...</td>\n",
       "      <td>...</td>\n",
       "      <td>...</td>\n",
       "      <td>...</td>\n",
       "      <td>...</td>\n",
       "      <td>...</td>\n",
       "    </tr>\n",
       "    <tr>\n",
       "      <th>10044</th>\n",
       "      <td>0</td>\n",
       "      <td>0</td>\n",
       "      <td>28071</td>\n",
       "      <td>99284</td>\n",
       "      <td>7344</td>\n",
       "      <td>ЯРКИЙ МИР</td>\n",
       "      <td>ЯРКИЙ МИР</td>\n",
       "      <td>ЯРКИЙ МИР</td>\n",
       "      <td>0</td>\n",
       "      <td>5</td>\n",
       "      <td>...</td>\n",
       "      <td>['#943E90']</td>\n",
       "      <td>None</td>\n",
       "      <td>NaN</td>\n",
       "      <td>NaN</td>\n",
       "      <td>8.0</td>\n",
       "      <td>None</td>\n",
       "      <td>NaN</td>\n",
       "      <td>None</td>\n",
       "      <td>None</td>\n",
       "      <td>None</td>\n",
       "    </tr>\n",
       "    <tr>\n",
       "      <th>10045</th>\n",
       "      <td>0</td>\n",
       "      <td>0</td>\n",
       "      <td>28070</td>\n",
       "      <td>99487</td>\n",
       "      <td>7344</td>\n",
       "      <td>ЯРКИЙ МИР</td>\n",
       "      <td>ЯРКИЙ МИР</td>\n",
       "      <td>ЯРКИЙ МИР</td>\n",
       "      <td>0</td>\n",
       "      <td>5</td>\n",
       "      <td>...</td>\n",
       "      <td>['#943E90']</td>\n",
       "      <td>None</td>\n",
       "      <td>NaN</td>\n",
       "      <td>NaN</td>\n",
       "      <td>7.0</td>\n",
       "      <td>None</td>\n",
       "      <td>NaN</td>\n",
       "      <td>None</td>\n",
       "      <td>None</td>\n",
       "      <td>None</td>\n",
       "    </tr>\n",
       "    <tr>\n",
       "      <th>10046</th>\n",
       "      <td>0</td>\n",
       "      <td>0</td>\n",
       "      <td>44447</td>\n",
       "      <td>475093</td>\n",
       "      <td>2538</td>\n",
       "      <td>ЯРОСЛАВЛЬЗАКАЗЧИК</td>\n",
       "      <td>ЯРОСЛАВЛЬЗАКАЗЧИК</td>\n",
       "      <td>СПЕЦИАЛИЗИРОВАННЫЙ ЗАСТРОЙЩИК ЯРОСЛАВЛЬЗАКАЗЧИК</td>\n",
       "      <td>0</td>\n",
       "      <td>1</td>\n",
       "      <td>...</td>\n",
       "      <td>nan</td>\n",
       "      <td>None</td>\n",
       "      <td>NaN</td>\n",
       "      <td>NaN</td>\n",
       "      <td>NaN</td>\n",
       "      <td>None</td>\n",
       "      <td>NaN</td>\n",
       "      <td>None</td>\n",
       "      <td>None</td>\n",
       "      <td>None</td>\n",
       "    </tr>\n",
       "    <tr>\n",
       "      <th>10047</th>\n",
       "      <td>0</td>\n",
       "      <td>0</td>\n",
       "      <td>28000</td>\n",
       "      <td>91796</td>\n",
       "      <td>7339</td>\n",
       "      <td>ЯРУС</td>\n",
       "      <td>ЯРУС</td>\n",
       "      <td>ЯРУС</td>\n",
       "      <td>0</td>\n",
       "      <td>1</td>\n",
       "      <td>...</td>\n",
       "      <td>nan</td>\n",
       "      <td>None</td>\n",
       "      <td>NaN</td>\n",
       "      <td>NaN</td>\n",
       "      <td>NaN</td>\n",
       "      <td>None</td>\n",
       "      <td>NaN</td>\n",
       "      <td>None</td>\n",
       "      <td>None</td>\n",
       "      <td>None</td>\n",
       "    </tr>\n",
       "    <tr>\n",
       "      <th>10048</th>\n",
       "      <td>0</td>\n",
       "      <td>0</td>\n",
       "      <td>37797</td>\n",
       "      <td>388962</td>\n",
       "      <td>7061</td>\n",
       "      <td>”СЗ”АЛЬФА-ИНВЕСТ”</td>\n",
       "      <td>”СЗ”АЛЬФА-ИНВЕСТ”</td>\n",
       "      <td>СПЕЦИАЛИЗИРОВАННЫЙ ЗАСТРОЙЩИК АЛЬФА-ИНВЕСТ</td>\n",
       "      <td>0</td>\n",
       "      <td>1</td>\n",
       "      <td>...</td>\n",
       "      <td>nan</td>\n",
       "      <td>None</td>\n",
       "      <td>NaN</td>\n",
       "      <td>NaN</td>\n",
       "      <td>NaN</td>\n",
       "      <td>None</td>\n",
       "      <td>NaN</td>\n",
       "      <td>None</td>\n",
       "      <td>None</td>\n",
       "      <td>None</td>\n",
       "    </tr>\n",
       "  </tbody>\n",
       "</table>\n",
       "<p>10049 rows × 110 columns</p>\n",
       "</div>"
      ],
      "text/plain": [
       "       index errcode  data.id  data.pdId  data.developer.devId  \\\n",
       "0          0       0    13391      28101                   306   \n",
       "1          0       0    13397      28141                   306   \n",
       "2          0       0    13383      28105                   306   \n",
       "3          0       0    13398      28141                   306   \n",
       "4          0       0    13399      28141                   306   \n",
       "...      ...     ...      ...        ...                   ...   \n",
       "10044      0       0    28071      99284                  7344   \n",
       "10045      0       0    28070      99487                  7344   \n",
       "10046      0       0    44447     475093                  2538   \n",
       "10047      0       0    28000      91796                  7339   \n",
       "10048      0       0    37797     388962                  7061   \n",
       "\n",
       "      data.developer.devShortCleanNm data.developer.devShortNm  \\\n",
       "0                         2МЕН ГРУПП                2МЕН ГРУПП   \n",
       "1                         2МЕН ГРУПП                2МЕН ГРУПП   \n",
       "2                         2МЕН ГРУПП                2МЕН ГРУПП   \n",
       "3                         2МЕН ГРУПП                2МЕН ГРУПП   \n",
       "4                         2МЕН ГРУПП                2МЕН ГРУПП   \n",
       "...                              ...                       ...   \n",
       "10044                      ЯРКИЙ МИР                 ЯРКИЙ МИР   \n",
       "10045                      ЯРКИЙ МИР                 ЯРКИЙ МИР   \n",
       "10046              ЯРОСЛАВЛЬЗАКАЗЧИК         ЯРОСЛАВЛЬЗАКАЗЧИК   \n",
       "10047                           ЯРУС                      ЯРУС   \n",
       "10048              ”СЗ”АЛЬФА-ИНВЕСТ”         ”СЗ”АЛЬФА-ИНВЕСТ”   \n",
       "\n",
       "                         data.developer.devFullCleanNm  \\\n",
       "0                                           2МЕН ГРУПП   \n",
       "1                                           2МЕН ГРУПП   \n",
       "2                                           2МЕН ГРУПП   \n",
       "3                                           2МЕН ГРУПП   \n",
       "4                                           2МЕН ГРУПП   \n",
       "...                                                ...   \n",
       "10044                                        ЯРКИЙ МИР   \n",
       "10045                                        ЯРКИЙ МИР   \n",
       "10046  СПЕЦИАЛИЗИРОВАННЫЙ ЗАСТРОЙЩИК ЯРОСЛАВЛЬЗАКАЗЧИК   \n",
       "10047                                             ЯРУС   \n",
       "10048       СПЕЦИАЛИЗИРОВАННЫЙ ЗАСТРОЙЩИК АЛЬФА-ИНВЕСТ   \n",
       "\n",
       "       data.developer.problObjCnt  data.developer.buildObjCnt  ...  \\\n",
       "0                               0                           5  ...   \n",
       "1                               0                           5  ...   \n",
       "2                               0                           5  ...   \n",
       "3                               0                           5  ...   \n",
       "4                               0                           5  ...   \n",
       "...                           ...                         ...  ...   \n",
       "10044                           0                           5  ...   \n",
       "10045                           0                           5  ...   \n",
       "10046                           0                           1  ...   \n",
       "10047                           0                           1  ...   \n",
       "10048                           0                           1  ...   \n",
       "\n",
       "       data.metro.colors data.transportDistIndex data.transportDistIndexValue  \\\n",
       "0                    nan                    None                          NaN   \n",
       "1                    nan                    None                          NaN   \n",
       "2                    nan                    None                          NaN   \n",
       "3                    nan                    None                          NaN   \n",
       "4                    nan                    None                          NaN   \n",
       "...                  ...                     ...                          ...   \n",
       "10044        ['#943E90']                    None                          NaN   \n",
       "10045        ['#943E90']                    None                          NaN   \n",
       "10046                nan                    None                          NaN   \n",
       "10047                nan                    None                          NaN   \n",
       "10048                nan                    None                          NaN   \n",
       "\n",
       "      data.greenAreaIndexValue data.airQualityIndexValue data.complexShortNm  \\\n",
       "0                          NaN                       NaN                None   \n",
       "1                          NaN                       NaN                None   \n",
       "2                          NaN                       NaN                None   \n",
       "3                          NaN                       NaN                None   \n",
       "4                          NaN                       NaN                None   \n",
       "...                        ...                       ...                 ...   \n",
       "10044                      NaN                       8.0                None   \n",
       "10045                      NaN                       7.0                None   \n",
       "10046                      NaN                       NaN                None   \n",
       "10047                      NaN                       NaN                None   \n",
       "10048                      NaN                       NaN                None   \n",
       "\n",
       "      data.developer.bankruptStage.bankruptStageCd  \\\n",
       "0                                              NaN   \n",
       "1                                              NaN   \n",
       "2                                              NaN   \n",
       "3                                              NaN   \n",
       "4                                              NaN   \n",
       "...                                            ...   \n",
       "10044                                          NaN   \n",
       "10045                                          NaN   \n",
       "10046                                          NaN   \n",
       "10047                                          NaN   \n",
       "10048                                          NaN   \n",
       "\n",
       "      data.developer.bankruptStage.bankruptStageDesc  \\\n",
       "0                                               None   \n",
       "1                                               None   \n",
       "2                                               None   \n",
       "3                                               None   \n",
       "4                                               None   \n",
       "...                                              ...   \n",
       "10044                                           None   \n",
       "10045                                           None   \n",
       "10046                                           None   \n",
       "10047                                           None   \n",
       "10048                                           None   \n",
       "\n",
       "      data.developer.bankruptStage.bankruptLawUrl  \\\n",
       "0                                            None   \n",
       "1                                            None   \n",
       "2                                            None   \n",
       "3                                            None   \n",
       "4                                            None   \n",
       "...                                           ...   \n",
       "10044                                        None   \n",
       "10045                                        None   \n",
       "10046                                        None   \n",
       "10047                                        None   \n",
       "10048                                        None   \n",
       "\n",
       "      data.developer.orgBankruptMsgDttm  \n",
       "0                                  None  \n",
       "1                                  None  \n",
       "2                                  None  \n",
       "3                                  None  \n",
       "4                                  None  \n",
       "...                                 ...  \n",
       "10044                              None  \n",
       "10045                              None  \n",
       "10046                              None  \n",
       "10047                              None  \n",
       "10048                              None  \n",
       "\n",
       "[10049 rows x 110 columns]"
      ]
     },
     "execution_count": 111,
     "metadata": {},
     "output_type": "execute_result"
    }
   ],
   "source": [
    "#сохраняем в sqlite3\n",
    "conn = sqlite3.connect(':memory:')\n",
    "\n",
    "#при записи были ошибки с типами с тремя полями, поэтому переводим их в строковый тип\n",
    "details_df['data.photoRenderDTO'] = details_df['data.objGuarantyEscrowFlg'].apply(str)\n",
    "details_df['data.objectTransportInfo'] = details_df['data.objectTransportInfo'].apply(str)\n",
    "details_df['data.metro.colors'] = details_df['data.metro.colors'].apply(str)\n",
    "\n",
    "details_df.to_sql(name='dmrf', con=conn)\n",
    "\n",
    "#проверяем\n",
    "pd.read_sql('select * from dmrf', conn)"
   ]
  },
  {
   "cell_type": "markdown",
   "metadata": {},
   "source": [
    "## Задание 2"
   ]
  },
  {
   "cell_type": "code",
   "execution_count": 124,
   "metadata": {},
   "outputs": [
    {
     "name": "stderr",
     "output_type": "stream",
     "text": [
      "10049it [5:17:42,  1.90s/it]\n"
     ]
    }
   ],
   "source": [
    "#можно использовать код от Никиты для определения региона, но можно и использовать поле data.region\n",
    "locations = []\n",
    "\n",
    "for la, lo in tqdm(zip(list(details_df['data.objLkLatitude']), list(details_df['data.objLkLongitude']))):\n",
    "    geolocator = Nominatim(user_agent=\"http\")\n",
    "    try:\n",
    "        location = geolocator.reverse(f\"{la}, {lo}\")\n",
    "        locations.append(location.raw['address']['state'])\n",
    "    except:\n",
    "        locations.append('Not Detected')\n",
    "    time.sleep(0.25)\n",
    "\n",
    "details_df['location'] = locations\n",
    "\n",
    "#spb_df = details_df[details_df['data.developer.regRegionDesc'] == 'Санкт-Петербург город']\n"
   ]
  },
  {
   "cell_type": "code",
   "execution_count": 149,
   "metadata": {},
   "outputs": [
    {
     "data": {
      "text/plain": [
       "0                                          д Агалатово\n",
       "0          гп Янино-1, улица 7-ая линия, вл. Участок 1\n",
       "0    г Сертолово, Микрорайон Сертолово-1, улица Ларина\n",
       "0                                       г Сосновый Бор\n",
       "0                                   п Бугры, корпус 22\n",
       "0                                   п Бугры, корпус 24\n",
       "0                                   п Бугры, корпус 25\n",
       "0                                   п Бугры, корпус 23\n",
       "0                                   п Бугры, корпус 26\n",
       "0    с Русско-Высоцкое, район АОЗТ «Птицефабрика Ру...\n",
       "Name: data.address, dtype: object"
      ]
     },
     "execution_count": 149,
     "metadata": {},
     "output_type": "execute_result"
    }
   ],
   "source": [
    "details_df[details_df['location'] == 'Ленинградская область']['data.address'].head(10)"
   ]
  },
  {
   "cell_type": "code",
   "execution_count": 151,
   "metadata": {},
   "outputs": [],
   "source": [
    "# сформируем отдельные датасеты\n",
    "yanino = details_df[details_df['data.address'].str.contains(\"Янино\", na=False)]\n",
    "bugry = details_df[details_df['data.address'].str.contains(\"Бугры\", na=False)]"
   ]
  },
  {
   "cell_type": "code",
   "execution_count": 154,
   "metadata": {},
   "outputs": [
    {
     "name": "stdout",
     "output_type": "stream",
     "text": [
      "yanino: 25\n",
      "bugry: 36\n"
     ]
    }
   ],
   "source": [
    "#число объектов\n",
    "print('yanino:', len(yanino))\n",
    "print('bugry:', len(bugry))"
   ]
  },
  {
   "cell_type": "code",
   "execution_count": 156,
   "metadata": {},
   "outputs": [
    {
     "name": "stdout",
     "output_type": "stream",
     "text": [
      "yanino: 111206.4\n",
      "bugry: 122223.48148148147\n"
     ]
    },
    {
     "data": {
      "text/plain": [
       "'data.objPriceAvg'"
      ]
     },
     "execution_count": 156,
     "metadata": {},
     "output_type": "execute_result"
    }
   ],
   "source": [
    "#средняя стоимость\n",
    "print('yanino:', yanino['data.objPriceAvg'].mean())\n",
    "print('bugry:', bugry['data.objPriceAvg'].mean())"
   ]
  },
  {
   "cell_type": "code",
   "execution_count": 157,
   "metadata": {},
   "outputs": [
    {
     "name": "stdout",
     "output_type": "stream",
     "text": [
      "yanino: 210379.57\n",
      "bugry: 448378.27999999997\n"
     ]
    }
   ],
   "source": [
    "#объем жилья\n",
    "print('yanino:', yanino['data.objSquareLiving'].sum())\n",
    "print('bugry:', bugry['data.objSquareLiving'].sum())"
   ]
  }
 ],
 "metadata": {
  "kernelspec": {
   "display_name": "Python 3 (ipykernel)",
   "language": "python",
   "name": "python3"
  },
  "language_info": {
   "codemirror_mode": {
    "name": "ipython",
    "version": 3
   },
   "file_extension": ".py",
   "mimetype": "text/x-python",
   "name": "python",
   "nbconvert_exporter": "python",
   "pygments_lexer": "ipython3",
   "version": "3.10.3"
  }
 },
 "nbformat": 4,
 "nbformat_minor": 1
}

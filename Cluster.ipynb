{
 "cells": [
  {
   "cell_type": "markdown",
   "metadata": {},
   "source": [
    "# Задание"
   ]
  },
  {
   "cell_type": "markdown",
   "metadata": {},
   "source": [
    "### Основная часть"
   ]
  },
  {
   "cell_type": "markdown",
   "metadata": {},
   "source": [
    "* Попробовать построить графики из тех, что были на уроке по Seaborn и Matplotlib\n",
    "* Важно чтобы у каждого из графиков был как минимум один в комментариях или markdown"
   ]
  },
  {
   "cell_type": "markdown",
   "metadata": {},
   "source": [
    "### Дополнительная часть"
   ]
  },
  {
   "cell_type": "markdown",
   "metadata": {},
   "source": [
    "* Некоторые данные представлены в агрегированном в виде в разном временном размере. Если вам нужны дополнительные переменные, то добавьте их в датасет.\n",
    "\n",
    "* Опишите данную вам выборку, а так же кластеризуйте данные с помощь инструментов Python (количество кластеров на ваше усмотрение) и опишите полученные кластеры ( например, в первом кластере представлены клиенты с таким-то поведением или продуктовым наполнением).\n",
    "\n",
    "* Для выполнения работы, пожалуйста, используйте Python. Задание мы ждем выполненным в Jupyter notebook с соответствующими комментариями."
   ]
  },
  {
   "cell_type": "markdown",
   "metadata": {},
   "source": [
    "# Описания полей"
   ]
  },
  {
   "cell_type": "markdown",
   "metadata": {},
   "source": [
    "* age\tвозраст\n",
    "* gender\tпол repexc_date\n",
    "* city_type\tТип города проживания клиента\n",
    "* full_mob\tДлительность взаимоотношений с банком\n",
    "\n",
    "* ml_balance\tипотека\n",
    "* cl_balance_0m\tпотребительский кредит\n",
    "* loan_balance_0m\tвсе кредиты\n",
    "\n",
    "* td_balance_0m\tдепозит\n",
    "* casa_balance_0m\tсчета\n",
    "\n",
    "* dc_trx_cnt\tколичество трат по картам\n",
    "* dc_trx_sum\tсумма трат по картам\n",
    "* Avg_trx\tсредний размер транзакции\n",
    "* avgtrx_to_balance\t\n",
    "\n",
    "\n",
    "* min_casa_balance_1q\tпоказатели по счетам за квартал\n",
    "* max_casa_balance_1q\t\n",
    "* avg_casa_balance_1Y\tпоказатели по счетам за год\n",
    "\n",
    "* min_td_balance_1q\t\n",
    "* max_td_balance_1q\t\n",
    "* avg_td_balance_1Y\n",
    "\n",
    "* min_loan_balance_1q\t\n",
    "* max_loan_balance_1q\t\n",
    "* avg_loan_balance_1Y\n",
    "\n",
    "* min_cl_balance_1q\t\n",
    "* max_cl_balance_1q\t\n",
    "* avg_cl_balance_1Y\t\n",
    "* loan_to_deposit\t\n",
    "\n",
    "* income\tдоход клиента\n",
    "* nbi\tдоход от клиента без OPEX"
   ]
  },
  {
   "cell_type": "code",
   "execution_count": 1,
   "metadata": {},
   "outputs": [
    {
     "name": "stderr",
     "output_type": "stream",
     "text": [
      "/Library/Frameworks/Python.framework/Versions/3.10/lib/python3.10/site-packages/tqdm/auto.py:22: TqdmWarning: IProgress not found. Please update jupyter and ipywidgets. See https://ipywidgets.readthedocs.io/en/stable/user_install.html\n",
      "  from .autonotebook import tqdm as notebook_tqdm\n"
     ]
    }
   ],
   "source": [
    "%matplotlib inline\n",
    "import pandas as pd\n",
    "import matplotlib.pyplot as plt\n",
    "import seaborn as sns\n",
    "import numpy as np\n",
    "from scipy import stats\n",
    "from tqdm.auto import tqdm"
   ]
  },
  {
   "cell_type": "code",
   "execution_count": 2,
   "metadata": {},
   "outputs": [
    {
     "data": {
      "text/html": [
       "<div>\n",
       "<style scoped>\n",
       "    .dataframe tbody tr th:only-of-type {\n",
       "        vertical-align: middle;\n",
       "    }\n",
       "\n",
       "    .dataframe tbody tr th {\n",
       "        vertical-align: top;\n",
       "    }\n",
       "\n",
       "    .dataframe thead th {\n",
       "        text-align: right;\n",
       "    }\n",
       "</style>\n",
       "<table border=\"1\" class=\"dataframe\">\n",
       "  <thead>\n",
       "    <tr style=\"text-align: right;\">\n",
       "      <th></th>\n",
       "      <th>age</th>\n",
       "      <th>gender</th>\n",
       "      <th>city_type</th>\n",
       "      <th>full_mob</th>\n",
       "      <th>ml_balance</th>\n",
       "      <th>cl_balance_0m</th>\n",
       "      <th>loan_balance_0m</th>\n",
       "      <th>td_balance_0m</th>\n",
       "      <th>casa_balance_0m</th>\n",
       "      <th>dc_trx_cnt</th>\n",
       "      <th>...</th>\n",
       "      <th>min_loan_balance_1q</th>\n",
       "      <th>max_loan_balance_1q</th>\n",
       "      <th>avg_loan_balance_1Y</th>\n",
       "      <th>min_cl_balance_1q</th>\n",
       "      <th>max_cl_balance_1q</th>\n",
       "      <th>avg_cl_balance_1Y</th>\n",
       "      <th>loan_to_deposit</th>\n",
       "      <th>Avg_trx</th>\n",
       "      <th>avgtrx_to_balance</th>\n",
       "      <th>nbi</th>\n",
       "    </tr>\n",
       "  </thead>\n",
       "  <tbody>\n",
       "    <tr>\n",
       "      <th>0</th>\n",
       "      <td>71</td>\n",
       "      <td>NaN</td>\n",
       "      <td>&lt;100</td>\n",
       "      <td>103</td>\n",
       "      <td>0.0</td>\n",
       "      <td>0.0</td>\n",
       "      <td>0.0</td>\n",
       "      <td>0.0</td>\n",
       "      <td>0.0000</td>\n",
       "      <td>0</td>\n",
       "      <td>...</td>\n",
       "      <td>0.0</td>\n",
       "      <td>0.0</td>\n",
       "      <td>0.0</td>\n",
       "      <td>0.0</td>\n",
       "      <td>0.0</td>\n",
       "      <td>0.0</td>\n",
       "      <td>NaN</td>\n",
       "      <td>NaN</td>\n",
       "      <td>NaN</td>\n",
       "      <td>NaN</td>\n",
       "    </tr>\n",
       "    <tr>\n",
       "      <th>1</th>\n",
       "      <td>49</td>\n",
       "      <td>NaN</td>\n",
       "      <td>Mega</td>\n",
       "      <td>81</td>\n",
       "      <td>0.0</td>\n",
       "      <td>0.0</td>\n",
       "      <td>0.0</td>\n",
       "      <td>0.0</td>\n",
       "      <td>3272.9367</td>\n",
       "      <td>0</td>\n",
       "      <td>...</td>\n",
       "      <td>0.0</td>\n",
       "      <td>0.0</td>\n",
       "      <td>0.0</td>\n",
       "      <td>0.0</td>\n",
       "      <td>0.0</td>\n",
       "      <td>0.0</td>\n",
       "      <td>NaN</td>\n",
       "      <td>NaN</td>\n",
       "      <td>NaN</td>\n",
       "      <td>28.762952</td>\n",
       "    </tr>\n",
       "    <tr>\n",
       "      <th>2</th>\n",
       "      <td>56</td>\n",
       "      <td>NaN</td>\n",
       "      <td>Mega</td>\n",
       "      <td>81</td>\n",
       "      <td>0.0</td>\n",
       "      <td>0.0</td>\n",
       "      <td>0.0</td>\n",
       "      <td>0.0</td>\n",
       "      <td>6249.7550</td>\n",
       "      <td>6</td>\n",
       "      <td>...</td>\n",
       "      <td>0.0</td>\n",
       "      <td>0.0</td>\n",
       "      <td>0.0</td>\n",
       "      <td>0.0</td>\n",
       "      <td>0.0</td>\n",
       "      <td>0.0</td>\n",
       "      <td>NaN</td>\n",
       "      <td>854.67</td>\n",
       "      <td>0.083467</td>\n",
       "      <td>1973.335539</td>\n",
       "    </tr>\n",
       "    <tr>\n",
       "      <th>3</th>\n",
       "      <td>47</td>\n",
       "      <td>NaN</td>\n",
       "      <td>Mega</td>\n",
       "      <td>81</td>\n",
       "      <td>0.0</td>\n",
       "      <td>0.0</td>\n",
       "      <td>0.0</td>\n",
       "      <td>0.0</td>\n",
       "      <td>14354.9370</td>\n",
       "      <td>0</td>\n",
       "      <td>...</td>\n",
       "      <td>0.0</td>\n",
       "      <td>0.0</td>\n",
       "      <td>0.0</td>\n",
       "      <td>0.0</td>\n",
       "      <td>0.0</td>\n",
       "      <td>0.0</td>\n",
       "      <td>NaN</td>\n",
       "      <td>NaN</td>\n",
       "      <td>NaN</td>\n",
       "      <td>364.008556</td>\n",
       "    </tr>\n",
       "    <tr>\n",
       "      <th>4</th>\n",
       "      <td>74</td>\n",
       "      <td>NaN</td>\n",
       "      <td>Mega</td>\n",
       "      <td>81</td>\n",
       "      <td>0.0</td>\n",
       "      <td>0.0</td>\n",
       "      <td>0.0</td>\n",
       "      <td>0.0</td>\n",
       "      <td>91511.7691</td>\n",
       "      <td>0</td>\n",
       "      <td>...</td>\n",
       "      <td>0.0</td>\n",
       "      <td>0.0</td>\n",
       "      <td>0.0</td>\n",
       "      <td>0.0</td>\n",
       "      <td>0.0</td>\n",
       "      <td>0.0</td>\n",
       "      <td>NaN</td>\n",
       "      <td>NaN</td>\n",
       "      <td>NaN</td>\n",
       "      <td>6651.416562</td>\n",
       "    </tr>\n",
       "  </tbody>\n",
       "</table>\n",
       "<p>5 rows × 28 columns</p>\n",
       "</div>"
      ],
      "text/plain": [
       "   age gender city_type  full_mob  ml_balance  cl_balance_0m  loan_balance_0m  \\\n",
       "0   71    NaN      <100       103         0.0            0.0              0.0   \n",
       "1   49    NaN      Mega        81         0.0            0.0              0.0   \n",
       "2   56    NaN      Mega        81         0.0            0.0              0.0   \n",
       "3   47    NaN      Mega        81         0.0            0.0              0.0   \n",
       "4   74    NaN      Mega        81         0.0            0.0              0.0   \n",
       "\n",
       "   td_balance_0m  casa_balance_0m  dc_trx_cnt  ...  min_loan_balance_1q  \\\n",
       "0            0.0           0.0000           0  ...                  0.0   \n",
       "1            0.0        3272.9367           0  ...                  0.0   \n",
       "2            0.0        6249.7550           6  ...                  0.0   \n",
       "3            0.0       14354.9370           0  ...                  0.0   \n",
       "4            0.0       91511.7691           0  ...                  0.0   \n",
       "\n",
       "   max_loan_balance_1q  avg_loan_balance_1Y  min_cl_balance_1q  \\\n",
       "0                  0.0                  0.0                0.0   \n",
       "1                  0.0                  0.0                0.0   \n",
       "2                  0.0                  0.0                0.0   \n",
       "3                  0.0                  0.0                0.0   \n",
       "4                  0.0                  0.0                0.0   \n",
       "\n",
       "   max_cl_balance_1q  avg_cl_balance_1Y  loan_to_deposit  Avg_trx  \\\n",
       "0                0.0                0.0              NaN      NaN   \n",
       "1                0.0                0.0              NaN      NaN   \n",
       "2                0.0                0.0              NaN   854.67   \n",
       "3                0.0                0.0              NaN      NaN   \n",
       "4                0.0                0.0              NaN      NaN   \n",
       "\n",
       "   avgtrx_to_balance          nbi  \n",
       "0                NaN          NaN  \n",
       "1                NaN    28.762952  \n",
       "2           0.083467  1973.335539  \n",
       "3                NaN   364.008556  \n",
       "4                NaN  6651.416562  \n",
       "\n",
       "[5 rows x 28 columns]"
      ]
     },
     "execution_count": 2,
     "metadata": {},
     "output_type": "execute_result"
    }
   ],
   "source": [
    "df = pd.read_csv('test_cluster.csv', encoding='cp1251', sep=';')\n",
    "df.head()"
   ]
  },
  {
   "cell_type": "code",
   "execution_count": 3,
   "metadata": {
    "scrolled": true
   },
   "outputs": [
    {
     "name": "stdout",
     "output_type": "stream",
     "text": [
      "<class 'pandas.core.frame.DataFrame'>\n",
      "RangeIndex: 50000 entries, 0 to 49999\n",
      "Data columns (total 28 columns):\n",
      " #   Column               Non-Null Count  Dtype  \n",
      "---  ------               --------------  -----  \n",
      " 0   age                  50000 non-null  int64  \n",
      " 1   gender               49277 non-null  object \n",
      " 2   city_type            50000 non-null  object \n",
      " 3   full_mob             50000 non-null  int64  \n",
      " 4   ml_balance           50000 non-null  float64\n",
      " 5   cl_balance_0m        50000 non-null  float64\n",
      " 6   loan_balance_0m      50000 non-null  float64\n",
      " 7   td_balance_0m        50000 non-null  float64\n",
      " 8   casa_balance_0m      50000 non-null  float64\n",
      " 9   dc_trx_cnt           50000 non-null  int64  \n",
      " 10  dc_trx_sum           50000 non-null  float64\n",
      " 11  income               50000 non-null  float64\n",
      " 12  min_casa_balance_1q  50000 non-null  float64\n",
      " 13  max_casa_balance_1q  50000 non-null  float64\n",
      " 14  avg_casa_balance_1Y  50000 non-null  float64\n",
      " 15  min_td_balance_1q    50000 non-null  float64\n",
      " 16  max_td_balance_1q    50000 non-null  float64\n",
      " 17  avg_td_balance_1Y    50000 non-null  float64\n",
      " 18  min_loan_balance_1q  50000 non-null  float64\n",
      " 19  max_loan_balance_1q  50000 non-null  float64\n",
      " 20  avg_loan_balance_1Y  50000 non-null  float64\n",
      " 21  min_cl_balance_1q    50000 non-null  float64\n",
      " 22  max_cl_balance_1q    50000 non-null  float64\n",
      " 23  avg_cl_balance_1Y    50000 non-null  float64\n",
      " 24  loan_to_deposit      3820 non-null   float64\n",
      " 25  Avg_trx              32128 non-null  float64\n",
      " 26  avgtrx_to_balance    31515 non-null  float64\n",
      " 27  nbi                  47569 non-null  float64\n",
      "dtypes: float64(23), int64(3), object(2)\n",
      "memory usage: 10.7+ MB\n"
     ]
    }
   ],
   "source": [
    "df.info()"
   ]
  },
  {
   "cell_type": "code",
   "execution_count": 21,
   "metadata": {},
   "outputs": [
    {
     "data": {
      "text/plain": [
       "4"
      ]
     },
     "execution_count": 21,
     "metadata": {},
     "output_type": "execute_result"
    }
   ],
   "source": [
    "df.age.min()"
   ]
  },
  {
   "cell_type": "code",
   "execution_count": 22,
   "metadata": {},
   "outputs": [
    {
     "data": {
      "text/plain": [
       "98"
      ]
     },
     "execution_count": 22,
     "metadata": {},
     "output_type": "execute_result"
    }
   ],
   "source": [
    "df.age.max()"
   ]
  },
  {
   "cell_type": "code",
   "execution_count": 87,
   "metadata": {},
   "outputs": [
    {
     "data": {
      "image/png": "[encoded data removed]",
      "text/plain": [
       "<Figure size 1512x648 with 1 Axes>"
      ]
     },
     "metadata": {},
     "output_type": "display_data"
    }
   ],
   "source": [
    "sns.set(rc={'figure.figsize':(21,9)})\n",
    "\n",
    "df['age_class'] = pd.cut(df.age, [0, 10, 20, 30, 40, 50, 60, 70, 80, 90,120], \n",
    "                      labels=['<10', '10-20', '20-30', '30-40', '40-50', '50-60', '60-70', '70-80', '80-90', '90+'])\n",
    "\n",
    "# сгруппируем по возрасту и полу\n",
    "df_group = df.groupby(['age_class', 'gender']).agg(avg_income=(\"income\", 'mean'))\n",
    "df_group = df_group.reset_index()\n",
    "  \n",
    "# построим столбчатую диаграмму\n",
    "sns.barplot(x=\"age_class\",\n",
    "           y=\"avg_income\",\n",
    "           hue=\"gender\",\n",
    "           data=df_group)\n",
    "plt.title('Средний доход клиента относительно возраста и пола', size=20);\n"
   ]
  },
  {
   "cell_type": "markdown",
   "metadata": {},
   "source": [
    "1. По большинству возрастных категорий доход мужчин выше, чем у женщин.\n",
    "2. Пик среднего дохода приходится на возрастной диапазон \"50-60\", как среди мужчин, так и среди женщин.\n",
    "3. Наиболее значительная разница в среднем доходе между мужчинами и женщинами приходится на диапазоны \"80-90\", \"70-80\" и \"50-60\"."
   ]
  },
  {
   "cell_type": "code",
   "execution_count": 32,
   "metadata": {},
   "outputs": [
    {
     "data": {
      "text/plain": [
       "0"
      ]
     },
     "execution_count": 32,
     "metadata": {},
     "output_type": "execute_result"
    }
   ],
   "source": [
    "df.full_mob.min()"
   ]
  },
  {
   "cell_type": "code",
   "execution_count": 33,
   "metadata": {},
   "outputs": [
    {
     "data": {
      "text/plain": [
       "236"
      ]
     },
     "execution_count": 33,
     "metadata": {},
     "output_type": "execute_result"
    }
   ],
   "source": [
    "df.full_mob.max()"
   ]
  },
  {
   "cell_type": "code",
   "execution_count": 38,
   "metadata": {},
   "outputs": [
    {
     "data": {
      "text/plain": [
       "185"
      ]
     },
     "execution_count": 38,
     "metadata": {},
     "output_type": "execute_result"
    }
   ],
   "source": [
    "len(df.full_mob.unique())"
   ]
  },
  {
   "cell_type": "code",
   "execution_count": 96,
   "metadata": {},
   "outputs": [],
   "source": [
    "df['full_mob_class'] = pd.cut(df.full_mob, 10)"
   ]
  },
  {
   "cell_type": "code",
   "execution_count": 126,
   "metadata": {},
   "outputs": [
    {
     "data": {
      "image/png": "[encoded data removed]",
      "text/plain": [
       "<Figure size 1440x720 with 1 Axes>"
      ]
     },
     "metadata": {},
     "output_type": "display_data"
    }
   ],
   "source": [
    "sns.set(rc={'figure.figsize':(21,9)})\n",
    "\n",
    "sns.catplot(\n",
    "    x='city_type',\n",
    "    y='full_mob',\n",
    "    data=df, #.query(\"avg_casa_balance_1Y < 1000000\"),\n",
    "    kind='boxen', \n",
    "    height=10, \n",
    "    aspect=2,\n",
    "    order=[\"<100\",\"100-500\",\"500-1000\",\"1M+\", 'Mega']\n",
    ")\n",
    "\n",
    "plt.yticks(range(0, 250, 10))\n",
    "plt.title('Длительность взаимоотношений с клиентом относительно типа города', size=20);"
   ]
  },
  {
   "cell_type": "markdown",
   "metadata": {},
   "source": [
    "1. Самая большая длительность взаимоотношений была с клиентами из городов категории \"Mega\"\n",
    "2. Длительность взаимоотношений с основной массой клиентов лежит в диапазоне от 10 до 100"
   ]
  }
 ],
 "metadata": {
  "kernelspec": {
   "display_name": "Python 3 (ipykernel)",
   "language": "python",
   "name": "python3"
  },
  "language_info": {
   "codemirror_mode": {
    "name": "ipython",
    "version": 3
   },
   "file_extension": ".py",
   "mimetype": "text/x-python",
   "name": "python",
   "nbconvert_exporter": "python",
   "pygments_lexer": "ipython3",
   "version": "3.10.3"
  }
 },
 "nbformat": 4,
 "nbformat_minor": 4
}

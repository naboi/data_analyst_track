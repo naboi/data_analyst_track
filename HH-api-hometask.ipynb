{
 "cells": [
  {
   "cell_type": "code",
   "execution_count": 1,
   "metadata": {},
   "outputs": [
    {
     "name": "stderr",
     "output_type": "stream",
     "text": [
      "/Library/Frameworks/Python.framework/Versions/3.10/lib/python3.10/site-packages/tqdm/auto.py:22: TqdmWarning: IProgress not found. Please update jupyter and ipywidgets. See https://ipywidgets.readthedocs.io/en/stable/user_install.html\n",
      "  from .autonotebook import tqdm as notebook_tqdm\n"
     ]
    }
   ],
   "source": [
    "import requests\n",
    "from tqdm.auto import tqdm\n",
    "import pandas as pd\n",
    "import matplotlib"
   ]
  },
  {
   "cell_type": "code",
   "execution_count": 2,
   "metadata": {},
   "outputs": [],
   "source": [
    "sber = '3529'\n",
    "page = 1\n",
    "num_per_page = 100\n",
    "moscow = 1\n",
    "url = f'https://api.hh.ru/vacancies?employer_id={sber}&per_page={num_per_page}'"
   ]
  },
  {
   "cell_type": "code",
   "execution_count": 3,
   "metadata": {},
   "outputs": [
    {
     "data": {
      "text/plain": [
       "20"
      ]
     },
     "execution_count": 3,
     "metadata": {},
     "output_type": "execute_result"
    }
   ],
   "source": [
    "res = requests.get(url)\n",
    "vacancies = res.json()\n",
    "num_pages = vacancies.get('pages')\n",
    "num_pages"
   ]
  },
  {
   "cell_type": "code",
   "execution_count": 4,
   "metadata": {},
   "outputs": [
    {
     "name": "stderr",
     "output_type": "stream",
     "text": [
      "100%|███████████████████████████████████████████| 20/20 [00:12<00:00,  1.56it/s]\n"
     ]
    }
   ],
   "source": [
    "all_vacancy_ids= []\n",
    "for i in tqdm(range(vacancies.get('pages'))):\n",
    "    url = f'https://api.hh.ru/vacancies?employer_id={sber}&page={i}&per_page={num_per_page}'\n",
    "    res = requests.get(url)\n",
    "    vacancies = res.json()\n",
    "    vacancy_ids = [el.get('id') for el in vacancies.get('items')]\n",
    "    all_vacancy_ids.extend(vacancy_ids)"
   ]
  },
  {
   "cell_type": "code",
   "execution_count": 5,
   "metadata": {},
   "outputs": [],
   "source": [
    "# Задание вытащить все вакансии СБЕРа с ХХ (у апи есть ограничение в 2000, подумайте как его обойти)\n",
    "# Вытащите все полные описания этих вакансий по запросу с https://api.hh.ru/vacancies/43326020 где 43326020 id вакансии\n",
    "# Создайте аналогичный vacancy DataFrame только добавьте поле skills\n",
    "# Переведите даты публикаций в datetime\n",
    "# Постройте график опубликованных вакансий по датам\n",
    "# Переведите даты в дни недели, и определите день недели, в который больше всего публикуют вакансий\n",
    "# Найдите те вакансии с использованием python, которые вам интересны\n",
    "# Определите по полю skills какие навыки больше всего востребованы для этих вакансий, и\n",
    "# Постройте график наиболее востребованных вакансий"
   ]
  },
  {
   "cell_type": "code",
   "execution_count": 6,
   "metadata": {},
   "outputs": [
    {
     "name": "stdout",
     "output_type": "stream",
     "text": [
      "2000\n",
      "['54044500', '53568652', '54366750', '54036425', '54525748']\n"
     ]
    }
   ],
   "source": [
    "print(len(all_vacancy_ids))\n",
    "print(all_vacancy_ids[0:5])"
   ]
  },
  {
   "cell_type": "code",
   "execution_count": 7,
   "metadata": {},
   "outputs": [
    {
     "name": "stdout",
     "output_type": "stream",
     "text": [
      "Index(['id', 'premium', 'relations', 'name', 'insider_interview',\n",
      "       'response_letter_required', 'address', 'allow_messages', 'contacts',\n",
      "       'description', 'branded_description', 'vacancy_constructor_template',\n",
      "       'key_skills', 'accept_handicapped', 'accept_kids', 'archived',\n",
      "       'response_url', 'specializations', 'professional_roles', 'code',\n",
      "       'hidden', 'quick_responses_allowed', 'driver_license_types',\n",
      "       'accept_incomplete_resumes', 'published_at', 'created_at',\n",
      "       'negotiations_url', 'suitable_resumes_url', 'apply_alternate_url',\n",
      "       'has_test', 'test', 'alternate_url', 'working_days',\n",
      "       'working_time_intervals', 'working_time_modes', 'accept_temporary',\n",
      "       'billing_type.id', 'billing_type.name', 'area.id', 'area.name',\n",
      "       'area.url', 'salary.from', 'salary.to', 'salary.currency',\n",
      "       'salary.gross', 'type.id', 'type.name', 'site.id', 'site.name',\n",
      "       'experience.id', 'experience.name', 'schedule.id', 'schedule.name',\n",
      "       'employment.id', 'employment.name', 'department.id', 'department.name',\n",
      "       'employer.id', 'employer.name', 'employer.url',\n",
      "       'employer.alternate_url', 'employer.logo_urls',\n",
      "       'employer.vacancies_url', 'employer.trusted'],\n",
      "      dtype='object')\n"
     ]
    }
   ],
   "source": [
    "# Проверим состав получаемых полей\n",
    "url = f'https://api.hh.ru/vacancies/54162408'\n",
    "\n",
    "r = requests.get(url)\n",
    "\n",
    "# Нормализуем для удобства\n",
    "j = pd.json_normalize(r.json(), max_level=1)\n",
    "\n",
    "print(j.columns)"
   ]
  },
  {
   "cell_type": "code",
   "execution_count": 8,
   "metadata": {},
   "outputs": [
    {
     "name": "stderr",
     "output_type": "stream",
     "text": [
      "100%|███████████████████████████████████████| 2000/2000 [08:07<00:00,  4.10it/s]\n"
     ]
    }
   ],
   "source": [
    "# Соберем данные по вакансиям\n",
    "all_vacancy_results=pd.DataFrame(columns=['id', 'premium', 'relations', 'name', 'insider_interview',\n",
    "       'response_letter_required', 'address', 'allow_messages', 'contacts',\n",
    "       'description', 'branded_description', 'vacancy_constructor_template',\n",
    "       'key_skills', 'accept_handicapped', 'accept_kids', 'archived',\n",
    "       'response_url', 'specializations', 'professional_roles', 'code',\n",
    "       'hidden', 'quick_responses_allowed', 'driver_license_types',\n",
    "       'accept_incomplete_resumes', 'published_at', 'created_at',\n",
    "       'negotiations_url', 'suitable_resumes_url', 'apply_alternate_url',\n",
    "       'has_test', 'test', 'alternate_url', 'working_days',\n",
    "       'working_time_intervals', 'working_time_modes', 'accept_temporary',\n",
    "       'billing_type.id', 'billing_type.name', 'area.id', 'area.name',\n",
    "       'area.url', 'salary.from', 'salary.to', 'salary.currency',\n",
    "       'salary.gross', 'type.id', 'type.name', 'site.id', 'site.name',\n",
    "       'experience.id', 'experience.name', 'schedule.id', 'schedule.name',\n",
    "       'employment.id', 'employment.name', 'department.id', 'department.name',\n",
    "       'employer.id', 'employer.name', 'employer.url',\n",
    "       'employer.alternate_url', 'employer.logo_urls',\n",
    "       'employer.vacancies_url', 'employer.trusted'])\n",
    "\n",
    "\n",
    "for i in tqdm(all_vacancy_ids):\n",
    "    url = f'https://api.hh.ru/vacancies/{i}'\n",
    "    res = requests.get(url)\n",
    "    vacancies = pd.json_normalize(res.json())    \n",
    "    all_vacancy_results = pd.concat([all_vacancy_results, vacancies], join=\"outer\")\n"
   ]
  },
  {
   "cell_type": "code",
   "execution_count": 9,
   "metadata": {
    "scrolled": true
   },
   "outputs": [
    {
     "name": "stdout",
     "output_type": "stream",
     "text": [
      "2000\n"
     ]
    }
   ],
   "source": [
    "# проверим длину полученного датафрейма\n",
    "print(len(all_vacancy_results))"
   ]
  },
  {
   "cell_type": "code",
   "execution_count": 10,
   "metadata": {},
   "outputs": [
    {
     "name": "stdout",
     "output_type": "stream",
     "text": [
      "datetime64[ns, pytz.FixedOffset(180)] datetime64[ns, pytz.FixedOffset(180)]\n"
     ]
    }
   ],
   "source": [
    "# переведем в datetime и проверим результат\n",
    "all_vacancy_results['published_at'] = pd.to_datetime(all_vacancy_results['published_at'])\n",
    "all_vacancy_results['created_at'] = pd.to_datetime(all_vacancy_results['created_at'])\n",
    "\n",
    "print(all_vacancy_results.published_at.dtype, all_vacancy_results.created_at.dtype)"
   ]
  },
  {
   "cell_type": "code",
   "execution_count": 11,
   "metadata": {},
   "outputs": [
    {
     "data": {
      "image/png": "[encoded data removed]",
      "text/plain": [
       "<Figure size 1080x504 with 1 Axes>"
      ]
     },
     "metadata": {
      "needs_background": "light"
     },
     "output_type": "display_data"
    }
   ],
   "source": [
    "# график по датам\n",
    "hist = all_vacancy_results['created_at'].hist(bins=30, figsize = (15,7))"
   ]
  },
  {
   "cell_type": "code",
   "execution_count": 12,
   "metadata": {},
   "outputs": [
    {
     "data": {
      "text/plain": [
       "<AxesSubplot:>"
      ]
     },
     "execution_count": 12,
     "metadata": {},
     "output_type": "execute_result"
    },
    {
     "data": {
      "image/png": "[encoded data removed]",
      "text/plain": [
       "<Figure size 1080x504 with 1 Axes>"
      ]
     },
     "metadata": {
      "needs_background": "light"
     },
     "output_type": "display_data"
    }
   ],
   "source": [
    "# дни недели\n",
    "all_vacancy_results['created_weekday'] = all_vacancy_results['created_at'].dt.dayofweek\n",
    "\n",
    "all_vacancy_results['created_weekday'].hist(bins=7, figsize = (15,7))"
   ]
  },
  {
   "cell_type": "code",
   "execution_count": 13,
   "metadata": {},
   "outputs": [],
   "source": [
    "# интересные вакансии\n",
    "interesting = all_vacancy_results[all_vacancy_results['key_skills'].astype(str).str.contains(\"Python\") \n",
    "                    & all_vacancy_results['name'].astype(str).str.contains(\"Аналитик\")]"
   ]
  },
  {
   "cell_type": "code",
   "execution_count": 15,
   "metadata": {},
   "outputs": [
    {
     "data": {
      "text/plain": [
       "0    [{'name': 'Hadoop'}, {'name': 'Python'}, {'nam...\n",
       "0    [{'name': 'Python'}, {'name': 'Atlassian Confl...\n",
       "Name: key_skills, dtype: object"
      ]
     },
     "execution_count": 15,
     "metadata": {},
     "output_type": "execute_result"
    }
   ],
   "source": [
    "#навыки в интересных вакансиях\n",
    "interesting.key_skills"
   ]
  },
  {
   "cell_type": "code",
   "execution_count": 43,
   "metadata": {},
   "outputs": [
    {
     "data": {
      "image/png": "[encoded data removed]",
      "text/plain": [
       "<Figure size 432x288 with 1 Axes>"
      ]
     },
     "metadata": {
      "needs_background": "light"
     },
     "output_type": "display_data"
    }
   ],
   "source": [
    "#график наиболее востребованных вакансий\n",
    "hist_popular = all_vacancy_results.groupby('name')['name'].agg('count').sort_values(ascending=False).head(15).plot.bar(x='lab', y='val', rot=90)"
   ]
  }
 ],
 "metadata": {
  "kernelspec": {
   "display_name": "Python 3 (ipykernel)",
   "language": "python",
   "name": "python3"
  },
  "language_info": {
   "codemirror_mode": {
    "name": "ipython",
    "version": 3
   },
   "file_extension": ".py",
   "mimetype": "text/x-python",
   "name": "python",
   "nbconvert_exporter": "python",
   "pygments_lexer": "ipython3",
   "version": "3.10.3"
  }
 },
 "nbformat": 4,
 "nbformat_minor": 4
}
